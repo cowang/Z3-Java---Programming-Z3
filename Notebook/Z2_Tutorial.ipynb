{
 "cells": [
  {
   "cell_type": "markdown",
   "id": "3fe7e58c-7940-4336-ac51-0266a9830230",
   "metadata": {},
   "source": [
    "# Tutorial - Programming Z3\n",
    "Available at http://theory.stanford.edu/~nikolaj/programmingz3.html \n",
    "\n",
    "## Chapter 2 - Logical Interfaces to Z3"
   ]
  },
  {
   "cell_type": "markdown",
   "id": "b59cc5c0-6729-47bc-aa86-2aa9d2cb9fb1",
   "metadata": {},
   "source": [
    "##### Monday, March28, 2022\n",
    "\n",
    "This notebook was created using _z3-solver 4.8.15.0_"
   ]
  },
  {
   "cell_type": "markdown",
   "id": "584b8f97-9627-4288-b89a-32ae4d270c11",
   "metadata": {
    "tags": []
   },
   "source": [
    "### Import Z3\n",
    "##### The first time, you will need to install z3-solver\n",
    "\n",
    "```pip install z3-solver```\n",
    "\n",
    "I chose to do that from the `cmd.exe` prompt that is available from Anaconda. I did it there, rather than here in Jupyter, because it will only need to be done once to make it available to all Jupyter notebooks. Now the `import` will work."
   ]
  },
  {
   "cell_type": "code",
   "execution_count": 161,
   "id": "d9b8b58c-b707-4e3e-9914-9b0d5eec3748",
   "metadata": {
    "tags": []
   },
   "outputs": [],
   "source": [
    "from z3 import *"
   ]
  },
  {
   "cell_type": "markdown",
   "id": "5670d62a-80ec-44f9-b1a6-ce8d3fb5ea73",
   "metadata": {
    "tags": []
   },
   "source": [
    "And that makes Z3 available for this whole Jupyter notebook."
   ]
  },
  {
   "cell_type": "markdown",
   "id": "1ec0a581-36df-4a0e-9c9a-033a9c499bc1",
   "metadata": {},
   "source": [
    "### Run Z3 from Python\n",
    "Here is a quick example. The variables on the left-hand side are Python variables. On the right-hand side the Z3 variables are created, with the names separated by spaces."
   ]
  },
  {
   "cell_type": "code",
   "execution_count": 162,
   "id": "d9177920-6f9d-40b0-9336-8bb5ae3b944d",
   "metadata": {},
   "outputs": [
    {
     "name": "stdout",
     "output_type": "stream",
     "text": [
      "sat\n",
      "[Tie = False, Shirt = True]\n"
     ]
    }
   ],
   "source": [
    "Tie, Shirt = Bools('Tie Shirt')\n",
    "s = Solver()\n",
    "s.add(\n",
    "    Or(Tie, Shirt), \n",
    "    Or(Not(Tie), Shirt), \n",
    "    Or(Not(Tie), Not(Shirt)))\n",
    "print(s.check())\n",
    "print(s.model())"
   ]
  },
  {
   "cell_type": "markdown",
   "id": "fdf67762-1816-494c-8aaa-04637f836139",
   "metadata": {},
   "source": [
    "In logic, the word \"model\" refers to a solution, an assignment of values to all variables such that the statement is true. So if `[Tie = False, Shirt = True]` is the solution found for a set of statements, then it is a model for them. \n",
    "\n",
    "Note that the solution values from within the solver are not assigned to the Python variables _Tie_ and _Shirt_."
   ]
  },
  {
   "cell_type": "code",
   "execution_count": 163,
   "id": "7598ea1f-a1e4-405a-ab04-0abc987238b4",
   "metadata": {},
   "outputs": [
    {
     "name": "stdout",
     "output_type": "stream",
     "text": [
      "Tie\n",
      "Shirt\n",
      "Or(Tie, Shirt)\n"
     ]
    }
   ],
   "source": [
    "print(Tie)\n",
    "print(Shirt)\n",
    "print(Or(Tie,Shirt)) # Tie and Shirt have not even been assigned values for use inside Z2 expressions"
   ]
  },
  {
   "cell_type": "code",
   "execution_count": 164,
   "id": "3aaf6c0b-a027-4c1a-ae15-188ff9fc82b2",
   "metadata": {},
   "outputs": [
    {
     "name": "stdout",
     "output_type": "stream",
     "text": [
      "<class 'z3.z3.BoolRef'> Bool Tie\n"
     ]
    }
   ],
   "source": [
    "print(  type(Tie),   Tie.sort(),  Tie.decl()  )"
   ]
  },
  {
   "cell_type": "markdown",
   "id": "454e0aca-4a8a-42c4-8a99-094f133389f9",
   "metadata": {},
   "source": [
    "\\\n",
    "Next we do the same thing as above using the `solve` function, which combines the process of setting up a solver, then performing an `add`, a `check`, and printing the `model`. (The variables Tie and Shirt still exist from the cell above, and they have not been fixed at the values in the above solution, so they are available for reuse in a Z3 expression.)"
   ]
  },
  {
   "cell_type": "code",
   "execution_count": 165,
   "id": "1094b160-6c6a-4b66-bba6-84c78b882818",
   "metadata": {},
   "outputs": [
    {
     "name": "stdout",
     "output_type": "stream",
     "text": [
      "[Tie = False, Shirt = True]\n"
     ]
    }
   ],
   "source": [
    "solve(\n",
    "    Or(Tie, Shirt), \n",
    "    Or(Not(Tie), Shirt), \n",
    "    Or(Not(Tie), Not(Shirt))\n",
    "    )\n"
   ]
  },
  {
   "cell_type": "markdown",
   "id": "fd96d2b7-1a61-4e6f-bf46-e65db06297f1",
   "metadata": {},
   "source": [
    "\\\n",
    "Next we attempt to solve a more complicated formula, and we see what is reported when there is no solution."
   ]
  },
  {
   "cell_type": "code",
   "execution_count": 166,
   "id": "fdb202d4-da18-4f1e-95bb-584e76b975be",
   "metadata": {
    "tags": []
   },
   "outputs": [
    {
     "name": "stdout",
     "output_type": "stream",
     "text": [
      "no solution\n"
     ]
    }
   ],
   "source": [
    "Z = IntSort()\n",
    "f = Function('f', Z, Z)\n",
    "x, y, z = Ints('x y z')\n",
    "A = Array('A', Z, Z)\n",
    "fml = Implies(x + 2 == y, f(Store(A, x, 3)[y - 2]) == f(y - x + 1))\n",
    "solve(Not(fml))"
   ]
  },
  {
   "cell_type": "markdown",
   "id": "fec5f90e-3670-4591-9813-964955bea7ec",
   "metadata": {
    "tags": []
   },
   "source": [
    "The Tutorial text gives the explanation for why fml is always true and, therefore, the solve fails to find a solution."
   ]
  },
  {
   "cell_type": "markdown",
   "id": "3eeec65c-668b-4b67-a389-5156338c79a5",
   "metadata": {},
   "source": [
    "##### SMT-LIB - Satisfiability Modulo Theories\n",
    "SMT-LIB is a format for logic that includes complex theories, for instance, the integers. Here is an example formula.\n",
    "\n",
    "```\n",
    " (set-logic QF_LIA)\n",
    " (declare-const x Int)\n",
    " (declare-const y Int)\n",
    " (assert (> (+ (mod x 4) (* 3 (div y 2))) (- x y)))\n",
    " (check-sat)\n",
    "```\n",
    "\n",
    "And here is the corresponding Z3 in Python:"
   ]
  },
  {
   "cell_type": "code",
   "execution_count": 167,
   "id": "552ce171-1a6f-461d-a7a0-9810b531fe66",
   "metadata": {},
   "outputs": [
    {
     "name": "stdout",
     "output_type": "stream",
     "text": [
      "[x = 0, y = 1]\n"
     ]
    }
   ],
   "source": [
    "x, y = Ints('x y')\n",
    "solve((x % 4) + 3 * (y / 2) > x - y)"
   ]
  },
  {
   "cell_type": "markdown",
   "id": "48acf08f-4465-4940-be21-c2a3613b68e9",
   "metadata": {},
   "source": [
    "\\\n",
    "We can see the equivalent SMT-LIB2 representation of our Python code by printing `solver.sexpr()`. In the following, we are using the same _x_ and _y_ declared immediately above, but with a different solver. (And notice how _x_ and _y_ are declared in the SMT output.)"
   ]
  },
  {
   "cell_type": "code",
   "execution_count": 168,
   "id": "285edfd4-b0a4-4734-abd3-c5361ce11d43",
   "metadata": {},
   "outputs": [
    {
     "name": "stdout",
     "output_type": "stream",
     "text": [
      "(declare-fun y () Int)\n",
      "(declare-fun x () Int)\n",
      "(assert (> (+ (mod x 4) (* 3 (div y 2))) (- x y)))\n",
      "\n"
     ]
    }
   ],
   "source": [
    "s = Solver()\n",
    "s.add((x % 4) + 3 * (y / 2) > x - y)\n",
    "print(s.sexpr())"
   ]
  },
  {
   "cell_type": "markdown",
   "id": "55ca90d4-e2d6-4211-9ef6-6ec45afa715c",
   "metadata": {},
   "source": [
    "The nullary function `(declare-fun y () Int)` is the SMT declaration of the constant `y` corresponding to the declaration \n",
    "\n",
    "`x, y = Ints('x y')`"
   ]
  },
  {
   "cell_type": "markdown",
   "id": "c3291ec1-ba52-4659-a044-67343749c3af",
   "metadata": {},
   "source": [
    "## \\*\\*\\*\\*\\*\\*\\*\\*\\*\\*\\*\\*\\*\\*\\*\\*\\*\\*\\*\\*\\*\\*\\*\\*\\*\\*\\*\\*\\*\\*\\*\\*\\*\\*\\*\\*\\*\\*\\*\\*\\*\\*\\*\\*\\*\\*\\*\\*\\*\\*\\*\\*\\*\\*\\*\\*\\*\\*\\*\\*\\*\\*\\*\\*\\*\\*\\*\\*\\*\n",
    "## \\*\\*\\* WORKING HERE TO CREATE CORRESPONDING JAVA CODE \\*\\*\\*\n",
    "## \\*\\*\\*\\*\\*\\*\\*\\*\\*\\*\\*\\*\\*\\*\\*\\*\\*\\*\\*\\*\\*\\*\\*\\*\\*\\*\\*\\*\\*\\*\\*\\*\\*\\*\\*\\*\\*\\*\\*\\*\\*\\*\\*\\*\\*\\*\\*\\*\\*\\*\\*\\*\\*\\*\\*\\*\\*\\*\\*\\*\\*\\*\\*\\*\\*\\*\\*\\*\\*\n"
   ]
  },
  {
   "cell_type": "markdown",
   "id": "2998e101-ba37-4e0c-8769-6c44e9c48881",
   "metadata": {},
   "source": [
    "\n",
    "## 2.1. Sorts\n",
    "\n",
    "Above, we've seen examples of booleans and integers:\n",
    "\n",
    "```\n",
    "Tie, Shirt = Bools('Tie Shirt')\n",
    "x, y, z = Ints('x y z')\n",
    "```\n",
    "\n",
    "and arrays with integer indices and integer elements:\n",
    "\n",
    "```\n",
    "A = ('A', Z, Z)\n",
    "```\n",
    "\n",
    "There are also _Real_, _String_, _(\\_ BitVec n)_ for every bit-width _n_, and (_Seq S_) for every sort _S_."
   ]
  },
  {
   "cell_type": "code",
   "execution_count": 169,
   "id": "14ca8689-d290-4bf8-896b-3077c66bc229",
   "metadata": {},
   "outputs": [],
   "source": [
    "Tie, Shirt = Bools('Tie Shirt')\n",
    "i,j,k = Ints('i j k')\n",
    "Z = IntSort()\n",
    "A = Array('A', Z, Z)\n",
    "Select(A, i)\n",
    "A[i]\n",
    "Store(A, i, 3)\n",
    "\n",
    "x,y = Reals('x y')\n",
    "s1, s2 = Strings('s1 s2')\n",
    "u, v = BitVecs('u v', 32)\n",
    "s, t = Consts('s t', SeqSort(IntSort()))"
   ]
  },
  {
   "cell_type": "markdown",
   "id": "7eccb558-3acb-4e0d-a26f-ec4d46f13354",
   "metadata": {},
   "source": [
    "There is also the ability to declare new sorts with _DeclareSort_. Note that sorts (types) are never empty. Thus the following is unsatisfiable (because `ForAll(s, False)` is only true if no _s_ exists)."
   ]
  },
  {
   "cell_type": "code",
   "execution_count": 170,
   "id": "4af6e202-1429-44c1-bd2a-d0c7eb6b11b1",
   "metadata": {},
   "outputs": [
    {
     "name": "stdout",
     "output_type": "stream",
     "text": [
      "no solution\n",
      "no solution\n",
      "[]\n",
      "[]\n"
     ]
    }
   ],
   "source": [
    "S = DeclareSort('S')\n",
    "s = Const('s', S)\n",
    "solve(ForAll(s, s != s))\n",
    "solve(ForAll(s, False))\n",
    "\n",
    "# What about the opposite\n",
    "solve(Exists(s, s == s))\n",
    "solve(Exists(s, True))"
   ]
  },
  {
   "cell_type": "markdown",
   "id": "6f0b9455-0879-4287-b16d-ff5fa2148387",
   "metadata": {
    "tags": []
   },
   "source": [
    "##### $\\color{red}{\\text{WHAT?}}$\n",
    "\n",
    "That last result is strange. Maybe it means \"There are no contradictions, but examples do not make sense in this context.\" Or perhaps, \"Unrestricted examples! Everything is a solution!\".\n",
    "\n",
    "$\\color{red}{\\text{TODO: Come back to this when I know more about how Z3 reports results.}}$"
   ]
  },
  {
   "cell_type": "markdown",
   "id": "c08b7089-c69a-4ce8-9329-d2f51ef001eb",
   "metadata": {},
   "source": [
    "## 2.2. Signatures\n",
    "\n",
    "Here is a declaration of a function from integers to integers:\n",
    "\n",
    "```\n",
    "Z = IntSort()\n",
    "f = Function('f', Z, Z)\n",
    "```\n",
    "\n",
    "Constants are nullary functions. \n",
    "\n",
    "Functions with a boolean range can be used to create formulas. The function _g_ in Section 2.3 below is an example."
   ]
  },
  {
   "cell_type": "markdown",
   "id": "e98fbeef-138c-4b30-9aa8-87a2cddf5d27",
   "metadata": {},
   "source": [
    "## 2.3 Terms and Formulas\n",
    "Functions with a boolean co-domain can be used with other functions, and in addition can be used in assertions or submitted for solution."
   ]
  },
  {
   "cell_type": "code",
   "execution_count": 171,
   "id": "337d3a78-91cb-44ae-8165-ad06a1a00295",
   "metadata": {},
   "outputs": [
    {
     "name": "stdout",
     "output_type": "stream",
     "text": [
      "[a = False, f = [else -> 0], g = [else -> True]]\n"
     ]
    }
   ],
   "source": [
    "B = BoolSort()\n",
    "f = Function('f', B, Z)\n",
    "g = Function('g', Z, B)\n",
    "a = Bool('a')\n",
    "solve(g(1+f(a)))"
   ]
  },
  {
   "cell_type": "markdown",
   "id": "c2e28a80-a486-42c5-ae56-17cd30c5521e",
   "metadata": {},
   "source": [
    "The `f = [else -> 0]` indicates that the proposed solution for the function _f_ only has the default case and thus maps everything to zero."
   ]
  },
  {
   "cell_type": "markdown",
   "id": "aaa4f993-b6e3-4ec2-a449-c2dbef0e2191",
   "metadata": {},
   "source": [
    "\\\n",
    "The standard logical operators are available: `And`, `Or`, `Implies`, `Not`, and `Xor`. For the biconditional operator, the Python API uses an equality `==` between \n",
    "variables that are assigned truth values.\n",
    "(There is probably a separate method that serves as the biconditional operator in Java. I don't think that the .equals() method would be used for that because that would make it return a Z3 value rather than a Java boolean.)"
   ]
  },
  {
   "cell_type": "markdown",
   "id": "4bd2c7cd-f72e-4b1f-bac4-3a25d23ef01f",
   "metadata": {},
   "source": [
    "\\\n",
    "Functions can be analyzed. Here we create the function `n` by assigning an expression over variables to the variable\n",
    "name `n`. \n"
   ]
  },
  {
   "cell_type": "code",
   "execution_count": 172,
   "id": "ffc590ac-8296-4133-849c-bcdd18e15937",
   "metadata": {},
   "outputs": [
    {
     "name": "stdout",
     "output_type": "stream",
     "text": [
      "n string     x + y >= 3\n",
      "n sort       Bool\n",
      "num args:    2\n",
      "children:    [x + y, 3]\n",
      "1st child:   x + y\n",
      "n arg0 sort  Int\n",
      "2nd child:   3\n",
      "n arg1 sort  Int\n",
      "n arg1 doc   Integer values.\n",
      "operator:    >=\n",
      "op name:     >=\n"
     ]
    }
   ],
   "source": [
    "x = Int('x')\n",
    "y = Int('y')\n",
    "n = x + y >= 3\n",
    "print(\"n string    \", n.__str__())\n",
    "print(\"n sort      \", n.sort())\n",
    "print(\"num args:   \", n.num_args())\n",
    "print(\"children:   \", n.children())\n",
    "print(\"1st child:  \", n.arg(0))\n",
    "print(\"n arg0 sort \", n.arg(0).sort())\n",
    "print(\"2nd child:  \", n.arg(1))\n",
    "print(\"n arg1 sort \", n.arg(1).sort())\n",
    "print(\"n arg1 doc  \", n.arg(1).__doc__)\n",
    "print(\"operator:   \", n.decl())\n",
    "print(\"op name:    \", n.decl().name())"
   ]
  },
  {
   "cell_type": "markdown",
   "id": "04b0152c-7257-4732-b01c-0c1651883663",
   "metadata": {},
   "source": [
    "## 2.4. Quantifiers and Lambda binding"
   ]
  },
  {
   "cell_type": "markdown",
   "id": "02c8fc37-4e49-43ea-93f0-e6531788603a",
   "metadata": {},
   "source": [
    "Z3 has a notation for universal and existential quantifiers, which binds names as new variables within the scope of the quantifer."
   ]
  },
  {
   "cell_type": "code",
   "execution_count": 173,
   "id": "1abe6cc8-6c18-4ff3-a205-48d07b7fee23",
   "metadata": {},
   "outputs": [
    {
     "name": "stdout",
     "output_type": "stream",
     "text": [
      "no solution\n",
      "[x = 2, y = 3]\n"
     ]
    }
   ],
   "source": [
    "solve([y == x + 1, ForAll([y], Implies(y <= 0, x < y))])\n",
    "solve([y == x + 1, ForAll([y], Implies(y <= 0, x > y))])"
   ]
  },
  {
   "cell_type": "code",
   "execution_count": 174,
   "id": "a26b7098-3567-46e4-bf6f-74e7c100816b",
   "metadata": {},
   "outputs": [
    {
     "name": "stdout",
     "output_type": "stream",
     "text": [
      "[x = 0, y = 1]\n",
      "no solution\n"
     ]
    }
   ],
   "source": [
    "solve([y == x + 1, Exists([y], Implies(y <= 0, x < y))])\n",
    "solve([y == x + 1, Exists([y], And(x > y, x <= 0, y >= 0))])"
   ]
  },
  {
   "cell_type": "markdown",
   "id": "274a555b-b68b-4e81-8069-f177ac7e1d51",
   "metadata": {},
   "source": [
    "\\\n",
    "Wierdly, DeMorgan does not hold for quantifiers."
   ]
  },
  {
   "cell_type": "code",
   "execution_count": 175,
   "id": "ae3120a1-29a4-4e80-bf9f-19f39ef56a33",
   "metadata": {},
   "outputs": [
    {
     "name": "stdout",
     "output_type": "stream",
     "text": [
      "counterexample\n",
      "[b = [else -> False]]\n"
     ]
    }
   ],
   "source": [
    "b = Function(\"b\", Z, B)\n",
    "prove( ForAll([x],b(x)) == Not(Exists([x],b(x))) )"
   ]
  },
  {
   "cell_type": "markdown",
   "id": "b5505b96-033b-469a-9301-241b061413c0",
   "metadata": {},
   "source": [
    "### Problem with quantification???\n",
    "And my exploration of this leads to more odd results.\n",
    "\\\n",
    "\\\n",
    "***NEED TO:*** $\\color{red}{\\text{Check Gries & Schneider, then submit a GitHub issue.}}$"
   ]
  },
  {
   "cell_type": "code",
   "execution_count": null,
   "id": "10b7bc1b-f99a-4a59-98a1-fdc993190ad4",
   "metadata": {},
   "outputs": [],
   "source": []
  },
  {
   "cell_type": "code",
   "execution_count": 176,
   "id": "ba61de68-9885-4f0d-a5f5-36ca8703f872",
   "metadata": {},
   "outputs": [
    {
     "name": "stdout",
     "output_type": "stream",
     "text": [
      "no solution\n",
      "counterexample\n",
      "[]\n",
      "Shouldn't that lack of counter examples mean proved?\n",
      "\n",
      "But here is another example that goes the other way:\n",
      "proved\n",
      "counterexample\n",
      "[]\n",
      "Here the lack of counter examples cannot mean proved.\n"
     ]
    }
   ],
   "source": [
    "solve(ForAll(s, s != s))\n",
    "prove(ForAll(s, s != s))\n",
    "print(\"Shouldn't that lack of counter examples mean proved?\\n\")\n",
    "\n",
    "print(\"But here is another example that goes the other way:\")\n",
    "prove(ForAll(s, False) == False ) \n",
    "prove(ForAll(s, False))\n",
    "print(\"Here the lack of counter examples cannot mean proved.\")"
   ]
  },
  {
   "cell_type": "code",
   "execution_count": 177,
   "id": "d5e04946-a166-47db-8d7a-74338c0cd3a1",
   "metadata": {},
   "outputs": [
    {
     "name": "stdout",
     "output_type": "stream",
     "text": [
      "proved\n",
      "proved\n",
      "counterexample\n",
      "[]\n",
      "Here the lack of counter examples does not mean proved!\n",
      "\n",
      "proved\n",
      "proved\n",
      "Here the lack of counter examples does not mean proved!\n",
      "\n",
      "[]\n",
      "no solution\n",
      "no solution\n",
      "no solution\n",
      "proved\n",
      "counterexample\n",
      "[b = [else -> False]]\n"
     ]
    },
    {
     "data": {
      "text/html": [
       "(&forall;x : False) = &not;(&exist;x : False)"
      ],
      "text/plain": [
       "(ForAll(x, False)) == Not(Exists(x, False))"
      ]
     },
     "execution_count": 177,
     "metadata": {},
     "output_type": "execute_result"
    }
   ],
   "source": [
    "b = Function(\"b\", Z, B)\n",
    "prove( ForAll([x], False) == False ) \n",
    "prove(     Exists([x], False) == False  )\n",
    "prove( Not(Exists([x], False) == False) )\n",
    "print(\"Here the lack of counter examples does not mean proved!\\n\")\n",
    "\n",
    "prove(Not(Exists([x], False)))\n",
    "prove(Not(Exists([x], False) == True))\n",
    "print(\"Here the lack of counter examples does not mean proved!\\n\")\n",
    "\n",
    "F = False\n",
    "F == F\n",
    "solve(    ForAll([x], False)  ==     Exists([x], False)  )\n",
    "solve(    ForAll([x], False)  == Not(Exists([x], False)) )\n",
    "solve( eq(ForAll([x], False),        Exists([x], False)) ) \n",
    "solve( eq(ForAll([x], False),    Not(Exists([x], False))))\n",
    "\n",
    "prove( ForAll([x], False) ==     Exists([x], False)  )\n",
    "prove( ForAll([x], b(x) ) == Not(Exists([x], b(x) )) )\n",
    "ForAll([x], False) == Not(Exists([x], False))"
   ]
  },
  {
   "cell_type": "code",
   "execution_count": null,
   "id": "1bc049c9-b798-43c3-8c0c-6f98fff1e672",
   "metadata": {},
   "outputs": [],
   "source": []
  },
  {
   "cell_type": "markdown",
   "id": "329382ce-8468-49dd-a5d7-d209c838052c",
   "metadata": {},
   "source": []
  },
  {
   "cell_type": "code",
   "execution_count": 178,
   "id": "3e02a0e5-15e2-45a7-b1d7-538f51bb57ca",
   "metadata": {},
   "outputs": [
    {
     "name": "stdout",
     "output_type": "stream",
     "text": [
      "proved\n",
      "proved\n",
      "proved\n",
      "counterexample\n",
      "[]\n",
      "counterexample\n",
      "[b = [else -> False]]\n"
     ]
    }
   ],
   "source": [
    "b = Function(\"b\", Z, B)\n",
    "prove( ForAll([x], False) == False ) \n",
    "prove( Exists([x], False) == False )\n",
    "prove( ForAll([x], False) ==     Exists([x], False)  )\n",
    "prove( ForAll([x], False) == Not(Exists([x], False)) )\n",
    "\n",
    "prove( ForAll([x], b(x) ) == Not(Exists([x], b(x) )) )\n"
   ]
  },
  {
   "cell_type": "code",
   "execution_count": null,
   "id": "1d539459-38ab-4975-b6e7-acb48dd12726",
   "metadata": {},
   "outputs": [],
   "source": []
  },
  {
   "cell_type": "code",
   "execution_count": null,
   "id": "6cfdb8e8-0a56-4c8b-a33b-aa321567f273",
   "metadata": {},
   "outputs": [],
   "source": []
  },
  {
   "cell_type": "code",
   "execution_count": null,
   "id": "165cf552-e041-4a8f-bad0-d5d93de5e5b8",
   "metadata": {},
   "outputs": [],
   "source": []
  }
 ],
 "metadata": {
  "kernelspec": {
   "display_name": "Python 3",
   "language": "python",
   "name": "python3"
  },
  "language_info": {
   "codemirror_mode": {
    "name": "ipython",
    "version": 3
   },
   "file_extension": ".py",
   "mimetype": "text/x-python",
   "name": "python",
   "nbconvert_exporter": "python",
   "pygments_lexer": "ipython3",
   "version": "3.7.13"
  }
 },
 "nbformat": 4,
 "nbformat_minor": 5
}
